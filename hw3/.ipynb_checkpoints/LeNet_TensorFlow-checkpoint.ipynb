{
  "nbformat": 4,
  "nbformat_minor": 0,
  "metadata": {
    "colab": {
      "name": "LeNet_TensorFlow.ipynb",
      "provenance": []
    },
    "kernelspec": {
      "name": "python3",
      "display_name": "Python 3"
    },
    "accelerator": "GPU"
  },
  "cells": [
    {
      "cell_type": "code",
      "metadata": {
        "id": "MMcWUHT5-eVD"
      },
      "source": [
        "import tensorflow as tf\n",
        "import matplotlib.pyplot as plt\n",
        "from tensorflow.keras import datasets, layers, models, losses"
      ],
      "execution_count": null,
      "outputs": []
    },
    {
      "cell_type": "code",
      "metadata": {
        "id": "fEvJTxr2C55-"
      },
      "source": [
        "(x_train, y_train), (x_test, y_test)=tf.keras.datasets.mnist.load_data()"
      ],
      "execution_count": null,
      "outputs": []
    },
    {
      "cell_type": "code",
      "metadata": {
        "colab": {
          "base_uri": "https://localhost:8080/"
        },
        "id": "v5CqAuLuDC94",
        "outputId": "c082e3c5-58a4-4577-c6a6-cab6a46406ee"
      },
      "source": [
        "x_train.shape"
      ],
      "execution_count": null,
      "outputs": [
        {
          "output_type": "execute_result",
          "data": {
            "text/plain": [
              "(60000, 28, 28)"
            ]
          },
          "metadata": {
            "tags": []
          },
          "execution_count": 3
        }
      ]
    },
    {
      "cell_type": "code",
      "metadata": {
        "colab": {
          "base_uri": "https://localhost:8080/"
        },
        "id": "XizrWVlmY1NQ",
        "outputId": "79110c67-65e5-46cf-c7ef-12f743e14476"
      },
      "source": [
        "x_train = tf.pad(x_train, [[0, 0], [2,2], [2,2]])/255\n",
        "x_test = tf.pad(x_test, [[0, 0], [2,2], [2,2]])/255\n",
        "x_train.shape"
      ],
      "execution_count": null,
      "outputs": [
        {
          "output_type": "execute_result",
          "data": {
            "text/plain": [
              "TensorShape([60000, 32, 32])"
            ]
          },
          "metadata": {
            "tags": []
          },
          "execution_count": 4
        }
      ]
    },
    {
      "cell_type": "code",
      "metadata": {
        "colab": {
          "base_uri": "https://localhost:8080/"
        },
        "id": "hy_dVa44ZOLk",
        "outputId": "27409e22-03ac-46a9-b388-8f832fcdcc42"
      },
      "source": [
        "x_train = tf.expand_dims(x_train, axis=3, name=None)\n",
        "x_test = tf.expand_dims(x_test, axis=3, name=None)\n",
        "x_train.shape"
      ],
      "execution_count": null,
      "outputs": [
        {
          "output_type": "execute_result",
          "data": {
            "text/plain": [
              "TensorShape([60000, 32, 32, 1])"
            ]
          },
          "metadata": {
            "tags": []
          },
          "execution_count": 5
        }
      ]
    },
    {
      "cell_type": "code",
      "metadata": {
        "id": "gJuMl9GAnoM5"
      },
      "source": [
        "x_val = x_train[-2000:,:,:,:]\n",
        "y_val = y_train[-2000:]\n",
        "x_train = x_train[:-2000,:,:,:]\n",
        "y_train = y_train[:-2000]"
      ],
      "execution_count": null,
      "outputs": []
    },
    {
      "cell_type": "code",
      "metadata": {
        "id": "UeaLkOM-XRZA",
        "colab": {
          "base_uri": "https://localhost:8080/"
        },
        "outputId": "38661b63-7ded-4ac8-ce7f-a8c007fa41ee"
      },
      "source": [
        "model = models.Sequential()\n",
        "model.add(layers.Conv2D(6, 5, activation='tanh', input_shape=x_train.shape[1:]))\n",
        "model.add(layers.AveragePooling2D(2))\n",
        "model.add(layers.Activation('sigmoid'))\n",
        "model.add(layers.Conv2D(16, 5, activation='tanh'))\n",
        "model.add(layers.AveragePooling2D(2))\n",
        "model.add(layers.Activation('sigmoid'))\n",
        "model.add(layers.Conv2D(120, 5, activation='tanh'))\n",
        "model.add(layers.Flatten())\n",
        "model.add(layers.Dense(84, activation='tanh'))\n",
        "model.add(layers.Dense(10, activation='softmax'))\n",
        "model.summary()"
      ],
      "execution_count": null,
      "outputs": [
        {
          "output_type": "stream",
          "text": [
            "Model: \"sequential\"\n",
            "_________________________________________________________________\n",
            "Layer (type)                 Output Shape              Param #   \n",
            "=================================================================\n",
            "conv2d (Conv2D)              (None, 28, 28, 6)         156       \n",
            "_________________________________________________________________\n",
            "average_pooling2d (AveragePo (None, 14, 14, 6)         0         \n",
            "_________________________________________________________________\n",
            "activation (Activation)      (None, 14, 14, 6)         0         \n",
            "_________________________________________________________________\n",
            "conv2d_1 (Conv2D)            (None, 10, 10, 16)        2416      \n",
            "_________________________________________________________________\n",
            "average_pooling2d_1 (Average (None, 5, 5, 16)          0         \n",
            "_________________________________________________________________\n",
            "activation_1 (Activation)    (None, 5, 5, 16)          0         \n",
            "_________________________________________________________________\n",
            "conv2d_2 (Conv2D)            (None, 1, 1, 120)         48120     \n",
            "_________________________________________________________________\n",
            "flatten (Flatten)            (None, 120)               0         \n",
            "_________________________________________________________________\n",
            "dense (Dense)                (None, 84)                10164     \n",
            "_________________________________________________________________\n",
            "dense_1 (Dense)              (None, 10)                850       \n",
            "=================================================================\n",
            "Total params: 61,706\n",
            "Trainable params: 61,706\n",
            "Non-trainable params: 0\n",
            "_________________________________________________________________\n"
          ],
          "name": "stdout"
        }
      ]
    },
    {
      "cell_type": "code",
      "metadata": {
        "id": "pOAJW5ByhYCl"
      },
      "source": [
        "model.compile(optimizer='adam', loss=losses.sparse_categorical_crossentropy, metrics=['accuracy'])"
      ],
      "execution_count": null,
      "outputs": []
    },
    {
      "cell_type": "code",
      "metadata": {
        "colab": {
          "base_uri": "https://localhost:8080/"
        },
        "id": "Xv-ml2R6hw_V",
        "outputId": "216079d9-5316-457b-fff7-07052aa09efe"
      },
      "source": [
        "history = model.fit(x_train, y_train, batch_size=64, epochs=40, validation_data=(x_val, y_val))"
      ],
      "execution_count": null,
      "outputs": [
        {
          "output_type": "stream",
          "text": [
            "Epoch 1/40\n",
            "907/907 [==============================] - 11s 6ms/step - loss: 1.8860 - accuracy: 0.2950 - val_loss: 0.2266 - val_accuracy: 0.9450\n",
            "Epoch 2/40\n",
            "907/907 [==============================] - 4s 5ms/step - loss: 0.3354 - accuracy: 0.8943 - val_loss: 0.1769 - val_accuracy: 0.9490\n",
            "Epoch 3/40\n",
            "907/907 [==============================] - 4s 5ms/step - loss: 0.2478 - accuracy: 0.9208 - val_loss: 0.1392 - val_accuracy: 0.9605\n",
            "Epoch 4/40\n",
            "907/907 [==============================] - 4s 5ms/step - loss: 0.2073 - accuracy: 0.9335 - val_loss: 0.1354 - val_accuracy: 0.9655\n",
            "Epoch 5/40\n",
            "907/907 [==============================] - 5s 5ms/step - loss: 0.1788 - accuracy: 0.9443 - val_loss: 0.0892 - val_accuracy: 0.9790\n",
            "Epoch 6/40\n",
            "907/907 [==============================] - 5s 5ms/step - loss: 0.1574 - accuracy: 0.9502 - val_loss: 0.0987 - val_accuracy: 0.9725\n",
            "Epoch 7/40\n",
            "907/907 [==============================] - 4s 5ms/step - loss: 0.1406 - accuracy: 0.9550 - val_loss: 0.1154 - val_accuracy: 0.9690\n",
            "Epoch 8/40\n",
            "907/907 [==============================] - 4s 5ms/step - loss: 0.1277 - accuracy: 0.9603 - val_loss: 0.0865 - val_accuracy: 0.9800\n",
            "Epoch 9/40\n",
            "907/907 [==============================] - 5s 5ms/step - loss: 0.1116 - accuracy: 0.9653 - val_loss: 0.0886 - val_accuracy: 0.9795\n",
            "Epoch 10/40\n",
            "907/907 [==============================] - 4s 5ms/step - loss: 0.1180 - accuracy: 0.9629 - val_loss: 0.0950 - val_accuracy: 0.9760\n",
            "Epoch 11/40\n",
            "907/907 [==============================] - 4s 5ms/step - loss: 0.1028 - accuracy: 0.9675 - val_loss: 0.0814 - val_accuracy: 0.9820\n",
            "Epoch 12/40\n",
            "907/907 [==============================] - 4s 5ms/step - loss: 0.0948 - accuracy: 0.9708 - val_loss: 0.0719 - val_accuracy: 0.9820\n",
            "Epoch 13/40\n",
            "907/907 [==============================] - 5s 5ms/step - loss: 0.0886 - accuracy: 0.9718 - val_loss: 0.0655 - val_accuracy: 0.9860\n",
            "Epoch 14/40\n",
            "907/907 [==============================] - 4s 5ms/step - loss: 0.0876 - accuracy: 0.9720 - val_loss: 0.0786 - val_accuracy: 0.9805\n",
            "Epoch 15/40\n",
            "907/907 [==============================] - 4s 5ms/step - loss: 0.0807 - accuracy: 0.9739 - val_loss: 0.0710 - val_accuracy: 0.9870\n",
            "Epoch 16/40\n",
            "907/907 [==============================] - 4s 5ms/step - loss: 0.0844 - accuracy: 0.9729 - val_loss: 0.0628 - val_accuracy: 0.9880\n",
            "Epoch 17/40\n",
            "907/907 [==============================] - 4s 5ms/step - loss: 0.0729 - accuracy: 0.9758 - val_loss: 0.0561 - val_accuracy: 0.9875\n",
            "Epoch 18/40\n",
            "907/907 [==============================] - 4s 5ms/step - loss: 0.0699 - accuracy: 0.9779 - val_loss: 0.0750 - val_accuracy: 0.9825\n",
            "Epoch 19/40\n",
            "907/907 [==============================] - 4s 5ms/step - loss: 0.0714 - accuracy: 0.9768 - val_loss: 0.0746 - val_accuracy: 0.9840\n",
            "Epoch 20/40\n",
            "907/907 [==============================] - 4s 5ms/step - loss: 0.0765 - accuracy: 0.9750 - val_loss: 0.0575 - val_accuracy: 0.9855\n",
            "Epoch 21/40\n",
            "907/907 [==============================] - 4s 5ms/step - loss: 0.0679 - accuracy: 0.9774 - val_loss: 0.0775 - val_accuracy: 0.9830\n",
            "Epoch 22/40\n",
            "907/907 [==============================] - 4s 5ms/step - loss: 0.0653 - accuracy: 0.9783 - val_loss: 0.0532 - val_accuracy: 0.9895\n",
            "Epoch 23/40\n",
            "907/907 [==============================] - 4s 5ms/step - loss: 0.0638 - accuracy: 0.9787 - val_loss: 0.0625 - val_accuracy: 0.9885\n",
            "Epoch 24/40\n",
            "907/907 [==============================] - 4s 5ms/step - loss: 0.0606 - accuracy: 0.9796 - val_loss: 0.0606 - val_accuracy: 0.9865\n",
            "Epoch 25/40\n",
            "907/907 [==============================] - 4s 5ms/step - loss: 0.0590 - accuracy: 0.9805 - val_loss: 0.0761 - val_accuracy: 0.9790\n",
            "Epoch 26/40\n",
            "907/907 [==============================] - 5s 5ms/step - loss: 0.0656 - accuracy: 0.9785 - val_loss: 0.0620 - val_accuracy: 0.9850\n",
            "Epoch 27/40\n",
            "907/907 [==============================] - 4s 5ms/step - loss: 0.0520 - accuracy: 0.9828 - val_loss: 0.0633 - val_accuracy: 0.9835\n",
            "Epoch 28/40\n",
            "907/907 [==============================] - 4s 5ms/step - loss: 0.0546 - accuracy: 0.9823 - val_loss: 0.0738 - val_accuracy: 0.9825\n",
            "Epoch 29/40\n",
            "907/907 [==============================] - 4s 5ms/step - loss: 0.0560 - accuracy: 0.9815 - val_loss: 0.0555 - val_accuracy: 0.9895\n",
            "Epoch 30/40\n",
            "907/907 [==============================] - 4s 5ms/step - loss: 0.0496 - accuracy: 0.9842 - val_loss: 0.0536 - val_accuracy: 0.9880\n",
            "Epoch 31/40\n",
            "907/907 [==============================] - 4s 5ms/step - loss: 0.0503 - accuracy: 0.9839 - val_loss: 0.0716 - val_accuracy: 0.9835\n",
            "Epoch 32/40\n",
            "907/907 [==============================] - 4s 5ms/step - loss: 0.0475 - accuracy: 0.9843 - val_loss: 0.0559 - val_accuracy: 0.9880\n",
            "Epoch 33/40\n",
            "907/907 [==============================] - 4s 5ms/step - loss: 0.0477 - accuracy: 0.9843 - val_loss: 0.0472 - val_accuracy: 0.9900\n",
            "Epoch 34/40\n",
            "907/907 [==============================] - 5s 5ms/step - loss: 0.0471 - accuracy: 0.9847 - val_loss: 0.0600 - val_accuracy: 0.9880\n",
            "Epoch 35/40\n",
            "907/907 [==============================] - 4s 5ms/step - loss: 0.0425 - accuracy: 0.9859 - val_loss: 0.0726 - val_accuracy: 0.9850\n",
            "Epoch 36/40\n",
            "907/907 [==============================] - 5s 5ms/step - loss: 0.0437 - accuracy: 0.9858 - val_loss: 0.0472 - val_accuracy: 0.9900\n",
            "Epoch 37/40\n",
            "907/907 [==============================] - 5s 5ms/step - loss: 0.0411 - accuracy: 0.9860 - val_loss: 0.0511 - val_accuracy: 0.9885\n",
            "Epoch 38/40\n",
            "907/907 [==============================] - 4s 5ms/step - loss: 0.0399 - accuracy: 0.9867 - val_loss: 0.0530 - val_accuracy: 0.9885\n",
            "Epoch 39/40\n",
            "907/907 [==============================] - 5s 5ms/step - loss: 0.0381 - accuracy: 0.9869 - val_loss: 0.0523 - val_accuracy: 0.9900\n",
            "Epoch 40/40\n",
            "907/907 [==============================] - 5s 5ms/step - loss: 0.0375 - accuracy: 0.9875 - val_loss: 0.0428 - val_accuracy: 0.9915\n"
          ],
          "name": "stdout"
        }
      ]
    },
    {
      "cell_type": "code",
      "metadata": {
        "colab": {
          "base_uri": "https://localhost:8080/",
          "height": 896
        },
        "id": "AfX0d7zyocFw",
        "outputId": "b92f5a88-5045-4941-9616-a812f6a7480f"
      },
      "source": [
        "fig, axs = plt.subplots(2, 1, figsize=(15,15))\n",
        "\n",
        "axs[0].plot(history.history['loss'])\n",
        "axs[0].plot(history.history['val_loss'])\n",
        "axs[0].title.set_text('Training Loss vs Validation Loss')\n",
        "axs[0].legend(['Train', 'Val'])\n",
        "\n",
        "axs[1].plot(history.history['accuracy'])\n",
        "axs[1].plot(history.history['val_accuracy'])\n",
        "axs[1].title.set_text('Training Accuracy vs Validation Accuracy')\n",
        "axs[1].legend(['Train', 'Val'])\n"
      ],
      "execution_count": null,
      "outputs": [
        {
          "output_type": "execute_result",
          "data": {
            "text/plain": [
              "<matplotlib.legend.Legend at 0x7f51d0179dd8>"
            ]
          },
          "metadata": {
            "tags": []
          },
          "execution_count": 10
        },
        {
          "output_type": "display_data",
          "data": {
            "image/png": "[encoded data removed]",
            "text/plain": [
              "<Figure size 1080x1080 with 2 Axes>"
            ]
          },
          "metadata": {
            "tags": [],
            "needs_background": "light"
          }
        }
      ]
    },
    {
      "cell_type": "code",
      "metadata": {
        "colab": {
          "base_uri": "https://localhost:8080/"
        },
        "id": "iLQqDljamZTV",
        "outputId": "4d65a32a-5fec-4b85-8aab-5a26fedd9166"
      },
      "source": [
        "model.evaluate(x_test, y_test)"
      ],
      "execution_count": null,
      "outputs": [
        {
          "output_type": "stream",
          "text": [
            "313/313 [==============================] - 1s 3ms/step - loss: 0.0549 - accuracy: 0.9825\n"
          ],
          "name": "stdout"
        },
        {
          "output_type": "execute_result",
          "data": {
            "text/plain": [
              "[0.05486104264855385, 0.9825000166893005]"
            ]
          },
          "metadata": {
            "tags": []
          },
          "execution_count": 11
        }
      ]
    }
  ]
}